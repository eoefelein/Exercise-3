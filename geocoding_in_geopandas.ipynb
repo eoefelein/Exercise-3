{
 "cells": [
  {
   "cell_type": "markdown",
   "metadata": {},
   "source": [
    "# Geocoding in Geopandas\n",
    "\n",
    "It is possible to do [geocoding in Geopandas](http://geopandas.org/geocoding.html) using its integrated functionalities of geopy. Geopandas has a function called `geocode()` that can geocode a list of addresses (strings) and return a GeoDataFrame containing the resulting point objects in ``geometry`` column. \n",
    "\n",
    "Nice, isn't it! Let's try this out.\n",
    "\n",
    "We will geocode addresses stored in a text file called `addresses.txt`. The addresses are located in the Helsinki Region in Southern Finland.\n",
    "\n",
    "The first rows of the data look like this:\n",
    "\n",
    "```\n",
    "id;addr\n",
    "1000;Itämerenkatu 14, 00101 Helsinki, Finland\n",
    "1001;Kampinkuja 1, 00100 Helsinki, Finland\n",
    "1002;Kaivokatu 8, 00101 Helsinki, Finland\n",
    "1003;Hermannin rantatie 1, 00580 Helsinki, Finland\n",
    "```\n",
    "\n",
    "We have an `id` for each row and an address on column `addr`.\n",
    "\n",
    "-  Let's first read the data into a Pandas DataFrame using the `read_csv()` -function:\n",
    "\n"
   ]
  },
  {
   "cell_type": "code",
   "execution_count": 12,
   "metadata": {},
   "outputs": [
    {
     "name": "stdout",
     "output_type": "stream",
     "text": [
      "Collecting geopy\n",
      "  Downloading geopy-2.0.0-py3-none-any.whl (111 kB)\n",
      "Collecting geographiclib<2,>=1.49\n",
      "  Downloading geographiclib-1.50-py3-none-any.whl (38 kB)\n",
      "Installing collected packages: geographiclib, geopy\n",
      "Successfully installed geographiclib-1.50 geopy-2.0.0\n"
     ]
    },
    {
     "name": "stderr",
     "output_type": "stream",
     "text": [
      "WARNING: You are using pip version 20.0.2; however, version 20.2 is available.\n",
      "You should consider upgrading via the 'c:\\users\\oefel\\appdata\\local\\programs\\python\\python38-32\\python.exe -m pip install --upgrade pip' command.\n"
     ]
    }
   ],
   "source": [
    "!pip install geopy"
   ]
  },
  {
   "cell_type": "code",
   "execution_count": 13,
   "metadata": {},
   "outputs": [],
   "source": [
    "import pandas as pd\n",
    "import geopy\n",
    "\n",
    "fp = \"data/addresses.txt\"\n",
    "\n",
    "data = pd.read_csv(fp, sep=\";\")"
   ]
  },
  {
   "cell_type": "markdown",
   "metadata": {},
   "source": [
    "- Let's check that we imported the file correctly:"
   ]
  },
  {
   "cell_type": "code",
   "execution_count": 3,
   "metadata": {},
   "outputs": [
    {
     "data": {
      "text/plain": [
       "34"
      ]
     },
     "execution_count": 3,
     "metadata": {},
     "output_type": "execute_result"
    }
   ],
   "source": [
    "len(data)"
   ]
  },
  {
   "cell_type": "code",
   "execution_count": 5,
   "metadata": {
    "jupyter": {
     "outputs_hidden": false
    }
   },
   "outputs": [
    {
     "data": {
      "text/html": [
       "<div>\n",
       "<style scoped>\n",
       "    .dataframe tbody tr th:only-of-type {\n",
       "        vertical-align: middle;\n",
       "    }\n",
       "\n",
       "    .dataframe tbody tr th {\n",
       "        vertical-align: top;\n",
       "    }\n",
       "\n",
       "    .dataframe thead th {\n",
       "        text-align: right;\n",
       "    }\n",
       "</style>\n",
       "<table border=\"1\" class=\"dataframe\">\n",
       "  <thead>\n",
       "    <tr style=\"text-align: right;\">\n",
       "      <th></th>\n",
       "      <th>id</th>\n",
       "      <th>addr</th>\n",
       "    </tr>\n",
       "  </thead>\n",
       "  <tbody>\n",
       "    <tr>\n",
       "      <th>29</th>\n",
       "      <td>1030</td>\n",
       "      <td>Siltasaarenkatu 16, 00530 Helsinki, Finland</td>\n",
       "    </tr>\n",
       "    <tr>\n",
       "      <th>30</th>\n",
       "      <td>1031</td>\n",
       "      <td>Urho Kekkosen katu 1, 00100 Helsinki, Finland</td>\n",
       "    </tr>\n",
       "    <tr>\n",
       "      <th>31</th>\n",
       "      <td>1032</td>\n",
       "      <td>Ruoholahdenkatu 17, 00101 Helsinki, Finland</td>\n",
       "    </tr>\n",
       "    <tr>\n",
       "      <th>32</th>\n",
       "      <td>1033</td>\n",
       "      <td>Tyynenmerenkatu 3, 00220 Helsinki, Finland</td>\n",
       "    </tr>\n",
       "    <tr>\n",
       "      <th>33</th>\n",
       "      <td>1034</td>\n",
       "      <td>Vilhonkatu 4, 00101 Helsinki, Finland</td>\n",
       "    </tr>\n",
       "  </tbody>\n",
       "</table>\n",
       "</div>"
      ],
      "text/plain": [
       "      id                                           addr\n",
       "29  1030    Siltasaarenkatu 16, 00530 Helsinki, Finland\n",
       "30  1031  Urho Kekkosen katu 1, 00100 Helsinki, Finland\n",
       "31  1032    Ruoholahdenkatu 17, 00101 Helsinki, Finland\n",
       "32  1033     Tyynenmerenkatu 3, 00220 Helsinki, Finland\n",
       "33  1034          Vilhonkatu 4, 00101 Helsinki, Finland"
      ]
     },
     "execution_count": 5,
     "metadata": {},
     "output_type": "execute_result"
    }
   ],
   "source": [
    "#checking for empty rows at the end\n",
    "data.tail()"
   ]
  },
  {
   "cell_type": "markdown",
   "metadata": {},
   "source": [
    "## Geocode addresses using Nominatim\n",
    "\n",
    "Now we have our data in a Pandas DataFrame and we can geocode our addresses using the [geopandas geocoding function](http://geopandas.org/reference/geopandas.tools.geocode.html#geopandas-tools-geocode). `geopandas.tools.geocode` uses `geopy` package in the background. \n",
    "\n",
    "- Let's import the geocoding function and geocode the addresses (column `addr`) using Nominatim. \n",
    "- Remember to provide a custom string (name of your application) in the user_agent parameter.\n",
    "- If needed, you can add the `timeout`-parameter which specifies how many seconds we will wait for a response from the service."
   ]
  },
  {
   "cell_type": "code",
   "execution_count": 7,
   "metadata": {
    "jupyter": {
     "outputs_hidden": false
    }
   },
   "outputs": [],
   "source": [
    "from geopandas.tools import geocode"
   ]
  },
  {
   "cell_type": "code",
   "execution_count": 14,
   "metadata": {},
   "outputs": [],
   "source": [
    "geo = geocode(data['addr'], provider=\"Nominatim\", user_agent=\"autogis_EO\", timeout=4)"
   ]
  },
  {
   "cell_type": "code",
   "execution_count": 15,
   "metadata": {},
   "outputs": [
    {
     "data": {
      "text/html": [
       "<div>\n",
       "<style scoped>\n",
       "    .dataframe tbody tr th:only-of-type {\n",
       "        vertical-align: middle;\n",
       "    }\n",
       "\n",
       "    .dataframe tbody tr th {\n",
       "        vertical-align: top;\n",
       "    }\n",
       "\n",
       "    .dataframe thead th {\n",
       "        text-align: right;\n",
       "    }\n",
       "</style>\n",
       "<table border=\"1\" class=\"dataframe\">\n",
       "  <thead>\n",
       "    <tr style=\"text-align: right;\">\n",
       "      <th></th>\n",
       "      <th>geometry</th>\n",
       "      <th>address</th>\n",
       "    </tr>\n",
       "  </thead>\n",
       "  <tbody>\n",
       "    <tr>\n",
       "      <th>0</th>\n",
       "      <td>POINT (24.91556 60.16320)</td>\n",
       "      <td>Ruoholahti, 14, Itämerenkatu, Ruoholahti, Läns...</td>\n",
       "    </tr>\n",
       "    <tr>\n",
       "      <th>1</th>\n",
       "      <td>POINT (24.93169 60.16902)</td>\n",
       "      <td>Kamppi, 1, Kampinkuja, Kamppi, Eteläinen suurp...</td>\n",
       "    </tr>\n",
       "    <tr>\n",
       "      <th>2</th>\n",
       "      <td>POINT (24.94168 60.16996)</td>\n",
       "      <td>Bangkok9, 8, Kaivokatu, Keskusta, Kluuvi, Etel...</td>\n",
       "    </tr>\n",
       "    <tr>\n",
       "      <th>3</th>\n",
       "      <td>POINT (24.97407 60.19560)</td>\n",
       "      <td>Hermannin rantatie, Kyläsaari, Hermanni, Helsi...</td>\n",
       "    </tr>\n",
       "    <tr>\n",
       "      <th>4</th>\n",
       "      <td>POINT (24.92160 60.15665)</td>\n",
       "      <td>Hesburger, 9, Tyynenmerenkatu, Jätkäsaari, Län...</td>\n",
       "    </tr>\n",
       "    <tr>\n",
       "      <th>5</th>\n",
       "      <td>POINT (25.08893 60.23708)</td>\n",
       "      <td>Kontulantie, Kontula, Mellunkylä, Helsinki, He...</td>\n",
       "    </tr>\n",
       "    <tr>\n",
       "      <th>6</th>\n",
       "      <td>POINT (25.11087 60.22178)</td>\n",
       "      <td>Itäväylä, Vartioharju, Vartiokylä, Helsinki, H...</td>\n",
       "    </tr>\n",
       "    <tr>\n",
       "      <th>7</th>\n",
       "      <td>POINT (25.03316 60.27779)</td>\n",
       "      <td>3-5, Tapulikaupungintie, Tapulikaupunki, Suuta...</td>\n",
       "    </tr>\n",
       "    <tr>\n",
       "      <th>8</th>\n",
       "      <td>POINT (25.02912 60.26363)</td>\n",
       "      <td>Sompionpolku, Tapanila, Tapaninkylä, Helsinki,...</td>\n",
       "    </tr>\n",
       "    <tr>\n",
       "      <th>9</th>\n",
       "      <td>POINT (24.87197 60.22244)</td>\n",
       "      <td>5, Atomitie, Pitäjänmäen teollisuusalue, Pitäj...</td>\n",
       "    </tr>\n",
       "    <tr>\n",
       "      <th>10</th>\n",
       "      <td>POINT (24.93985 60.17038)</td>\n",
       "      <td>Rautatientori, 2, Kaivokatu, Keskusta, Kluuvi,...</td>\n",
       "    </tr>\n",
       "    <tr>\n",
       "      <th>11</th>\n",
       "      <td>POINT (24.88421 60.23050)</td>\n",
       "      <td>Kuparitie, Lassila, Haaga, Läntinen suurpiiri,...</td>\n",
       "    </tr>\n",
       "    <tr>\n",
       "      <th>12</th>\n",
       "      <td>POINT (24.87700 60.23974)</td>\n",
       "      <td>Rumpupolku, Kannelmäki, Kaarela, Läntinen suur...</td>\n",
       "    </tr>\n",
       "    <tr>\n",
       "      <th>13</th>\n",
       "      <td>POINT (24.94801 60.22179)</td>\n",
       "      <td>K-Supermarket Mustapekka, 1, Mäkitorpantie, Pa...</td>\n",
       "    </tr>\n",
       "    <tr>\n",
       "      <th>14</th>\n",
       "      <td>POINT (25.01303 60.25134)</td>\n",
       "      <td>15, Malminkaari, Ala-Malmi, Malmi, Helsinki, H...</td>\n",
       "    </tr>\n",
       "    <tr>\n",
       "      <th>15</th>\n",
       "      <td>POINT (24.89418 60.21722)</td>\n",
       "      <td>23, Kylätie, Etelä-Haaga, Haaga, Läntinen suur...</td>\n",
       "    </tr>\n",
       "    <tr>\n",
       "      <th>16</th>\n",
       "      <td>POINT (24.86678 60.25174)</td>\n",
       "      <td>Malminkartanontie, Malminkartano, Kaarela, Län...</td>\n",
       "    </tr>\n",
       "    <tr>\n",
       "      <th>17</th>\n",
       "      <td>POINT (24.96566 60.22982)</td>\n",
       "      <td>Oulunkylän tori, Patola, Oulunkylä, Helsinki, ...</td>\n",
       "    </tr>\n",
       "    <tr>\n",
       "      <th>18</th>\n",
       "      <td>POINT (24.93435 60.19857)</td>\n",
       "      <td>6, Ratapihantie, Itä-Pasila, Pasila, Helsinki,...</td>\n",
       "    </tr>\n",
       "    <tr>\n",
       "      <th>19</th>\n",
       "      <td>POINT (24.86084 60.22402)</td>\n",
       "      <td>Pizza Benitto, 15, Pitäjänmäentie, Reimarla, P...</td>\n",
       "    </tr>\n",
       "    <tr>\n",
       "      <th>20</th>\n",
       "      <td>POINT (24.99362 60.24365)</td>\n",
       "      <td>K-Market Pukinmäki, 2, Eskolantie, Pukinmäki, ...</td>\n",
       "    </tr>\n",
       "    <tr>\n",
       "      <th>21</th>\n",
       "      <td>POINT (25.02063 60.24355)</td>\n",
       "      <td>Tattariharjuntie, Ala-Malmi, Malmi, Helsinki, ...</td>\n",
       "    </tr>\n",
       "    <tr>\n",
       "      <th>22</th>\n",
       "      <td>POINT (25.07835 60.20982)</td>\n",
       "      <td>Danske Bank, 1, Tallinnanaukio, Itäkeskus, Var...</td>\n",
       "    </tr>\n",
       "    <tr>\n",
       "      <th>23</th>\n",
       "      <td>POINT (25.13686 60.20703)</td>\n",
       "      <td>Tyynylaavantie, Keski-Vuosaari, Vuosaari, Hels...</td>\n",
       "    </tr>\n",
       "    <tr>\n",
       "      <th>24</th>\n",
       "      <td>POINT (25.07478 60.22531)</td>\n",
       "      <td>Myllypurontie, Myllypuro, Vartiokylä, Helsinki...</td>\n",
       "    </tr>\n",
       "    <tr>\n",
       "      <th>25</th>\n",
       "      <td>POINT (25.10697 60.23915)</td>\n",
       "      <td>Mellunmäenraitio, Vesala, Mellunkylä, Helsinki...</td>\n",
       "    </tr>\n",
       "    <tr>\n",
       "      <th>26</th>\n",
       "      <td>POINT (24.96142 60.18779)</td>\n",
       "      <td>Vaasanpolku, Harju, Alppiharju, Helsinki, Hels...</td>\n",
       "    </tr>\n",
       "    <tr>\n",
       "      <th>27</th>\n",
       "      <td>POINT (25.02817 60.19442)</td>\n",
       "      <td>Alko Herttoniemi Hertta, 2, Hiihtäjäntie, Läns...</td>\n",
       "    </tr>\n",
       "    <tr>\n",
       "      <th>28</th>\n",
       "      <td>POINT (25.00681 60.18872)</td>\n",
       "      <td>Metro Kulosaari, 2, Ukko-Pekan porras, Kulosaa...</td>\n",
       "    </tr>\n",
       "    <tr>\n",
       "      <th>29</th>\n",
       "      <td>POINT (24.94953 60.17943)</td>\n",
       "      <td>Nissen Optikko, 16, Siltasaarenkatu, Siltasaar...</td>\n",
       "    </tr>\n",
       "    <tr>\n",
       "      <th>30</th>\n",
       "      <td>POINT (24.93312 60.16909)</td>\n",
       "      <td>Kampin keskus, 1, Urho Kekkosen katu, Kamppi, ...</td>\n",
       "    </tr>\n",
       "    <tr>\n",
       "      <th>31</th>\n",
       "      <td>POINT (24.92520 60.16489)</td>\n",
       "      <td>Ruoholahdenkatu, Hietalahti, Kamppi, Eteläinen...</td>\n",
       "    </tr>\n",
       "    <tr>\n",
       "      <th>32</th>\n",
       "      <td>POINT (24.92119 60.15890)</td>\n",
       "      <td>Easy Cycles, 3, Tyynenmerenkatu, Jätkäsaari, L...</td>\n",
       "    </tr>\n",
       "    <tr>\n",
       "      <th>33</th>\n",
       "      <td>POINT (24.94709 60.17191)</td>\n",
       "      <td>Oluthuone Kaisla, 4, Vilhonkatu, Keskusta, Klu...</td>\n",
       "    </tr>\n",
       "  </tbody>\n",
       "</table>\n",
       "</div>"
      ],
      "text/plain": [
       "                     geometry  \\\n",
       "0   POINT (24.91556 60.16320)   \n",
       "1   POINT (24.93169 60.16902)   \n",
       "2   POINT (24.94168 60.16996)   \n",
       "3   POINT (24.97407 60.19560)   \n",
       "4   POINT (24.92160 60.15665)   \n",
       "5   POINT (25.08893 60.23708)   \n",
       "6   POINT (25.11087 60.22178)   \n",
       "7   POINT (25.03316 60.27779)   \n",
       "8   POINT (25.02912 60.26363)   \n",
       "9   POINT (24.87197 60.22244)   \n",
       "10  POINT (24.93985 60.17038)   \n",
       "11  POINT (24.88421 60.23050)   \n",
       "12  POINT (24.87700 60.23974)   \n",
       "13  POINT (24.94801 60.22179)   \n",
       "14  POINT (25.01303 60.25134)   \n",
       "15  POINT (24.89418 60.21722)   \n",
       "16  POINT (24.86678 60.25174)   \n",
       "17  POINT (24.96566 60.22982)   \n",
       "18  POINT (24.93435 60.19857)   \n",
       "19  POINT (24.86084 60.22402)   \n",
       "20  POINT (24.99362 60.24365)   \n",
       "21  POINT (25.02063 60.24355)   \n",
       "22  POINT (25.07835 60.20982)   \n",
       "23  POINT (25.13686 60.20703)   \n",
       "24  POINT (25.07478 60.22531)   \n",
       "25  POINT (25.10697 60.23915)   \n",
       "26  POINT (24.96142 60.18779)   \n",
       "27  POINT (25.02817 60.19442)   \n",
       "28  POINT (25.00681 60.18872)   \n",
       "29  POINT (24.94953 60.17943)   \n",
       "30  POINT (24.93312 60.16909)   \n",
       "31  POINT (24.92520 60.16489)   \n",
       "32  POINT (24.92119 60.15890)   \n",
       "33  POINT (24.94709 60.17191)   \n",
       "\n",
       "                                              address  \n",
       "0   Ruoholahti, 14, Itämerenkatu, Ruoholahti, Läns...  \n",
       "1   Kamppi, 1, Kampinkuja, Kamppi, Eteläinen suurp...  \n",
       "2   Bangkok9, 8, Kaivokatu, Keskusta, Kluuvi, Etel...  \n",
       "3   Hermannin rantatie, Kyläsaari, Hermanni, Helsi...  \n",
       "4   Hesburger, 9, Tyynenmerenkatu, Jätkäsaari, Län...  \n",
       "5   Kontulantie, Kontula, Mellunkylä, Helsinki, He...  \n",
       "6   Itäväylä, Vartioharju, Vartiokylä, Helsinki, H...  \n",
       "7   3-5, Tapulikaupungintie, Tapulikaupunki, Suuta...  \n",
       "8   Sompionpolku, Tapanila, Tapaninkylä, Helsinki,...  \n",
       "9   5, Atomitie, Pitäjänmäen teollisuusalue, Pitäj...  \n",
       "10  Rautatientori, 2, Kaivokatu, Keskusta, Kluuvi,...  \n",
       "11  Kuparitie, Lassila, Haaga, Läntinen suurpiiri,...  \n",
       "12  Rumpupolku, Kannelmäki, Kaarela, Läntinen suur...  \n",
       "13  K-Supermarket Mustapekka, 1, Mäkitorpantie, Pa...  \n",
       "14  15, Malminkaari, Ala-Malmi, Malmi, Helsinki, H...  \n",
       "15  23, Kylätie, Etelä-Haaga, Haaga, Läntinen suur...  \n",
       "16  Malminkartanontie, Malminkartano, Kaarela, Län...  \n",
       "17  Oulunkylän tori, Patola, Oulunkylä, Helsinki, ...  \n",
       "18  6, Ratapihantie, Itä-Pasila, Pasila, Helsinki,...  \n",
       "19  Pizza Benitto, 15, Pitäjänmäentie, Reimarla, P...  \n",
       "20  K-Market Pukinmäki, 2, Eskolantie, Pukinmäki, ...  \n",
       "21  Tattariharjuntie, Ala-Malmi, Malmi, Helsinki, ...  \n",
       "22  Danske Bank, 1, Tallinnanaukio, Itäkeskus, Var...  \n",
       "23  Tyynylaavantie, Keski-Vuosaari, Vuosaari, Hels...  \n",
       "24  Myllypurontie, Myllypuro, Vartiokylä, Helsinki...  \n",
       "25  Mellunmäenraitio, Vesala, Mellunkylä, Helsinki...  \n",
       "26  Vaasanpolku, Harju, Alppiharju, Helsinki, Hels...  \n",
       "27  Alko Herttoniemi Hertta, 2, Hiihtäjäntie, Läns...  \n",
       "28  Metro Kulosaari, 2, Ukko-Pekan porras, Kulosaa...  \n",
       "29  Nissen Optikko, 16, Siltasaarenkatu, Siltasaar...  \n",
       "30  Kampin keskus, 1, Urho Kekkosen katu, Kamppi, ...  \n",
       "31  Ruoholahdenkatu, Hietalahti, Kamppi, Eteläinen...  \n",
       "32  Easy Cycles, 3, Tyynenmerenkatu, Jätkäsaari, L...  \n",
       "33  Oluthuone Kaisla, 4, Vilhonkatu, Keskusta, Klu...  "
      ]
     },
     "execution_count": 15,
     "metadata": {},
     "output_type": "execute_result"
    }
   ],
   "source": [
    "geo"
   ]
  },
  {
   "cell_type": "markdown",
   "metadata": {},
   "source": [
    "And Voilà! As a result we have a GeoDataFrame that contains our original\n",
    "address and a 'geometry' column containing Shapely Point -objects that\n",
    "we can use for exporting the addresses to a Shapefile for example.\n",
    "However, the ``id`` column is not there. Thus, we need to join the\n",
    "information from ``data`` into our new GeoDataFrame ``geo``, thus making\n",
    "a **Table Join**."
   ]
  },
  {
   "cell_type": "markdown",
   "metadata": {},
   "source": [
    "<div class=\"alert alert-info\">\n",
    "\n",
    "**Rate-limiting**\n",
    "\n",
    "When geocoding a large dataframe, you might encounter an error when geocoding. In case you get a time out error, try first using the `timeout` parameter as we did above (allow the service a bit more time to respond). In case of Too Many Requests error, you have hit the rate-limit of the service, and you should slow down your requests. To our convenience, GeoPy provides additional tools for taking into account rate limits in geocoding services. This script adapts the usage of [GeoPy RateLimiter](https://geopy.readthedocs.io/en/stable/#geopy.extra.rate_limiter.RateLimiter) to our input data:\n",
    "\n",
    "```\n",
    "from geopy.geocoders import Nominatim\n",
    "from geopy.extra.rate_limiter import RateLimiter\n",
    "from shapely.geometry import Point\n",
    "\n",
    "# Initiate geocoder\n",
    "geolocator = Nominatim(user_agent='autogis_xx')\n",
    "\n",
    "# Create a geopy rate limiter:\n",
    "geocode_with_delay = RateLimiter(geolocator.geocode, min_delay_seconds=1)\n",
    "\n",
    "# Apply the geocoder with delay using the rate limiter:\n",
    "data['temp'] = data['addr'].apply(geocode_with_delay)\n",
    "\n",
    "# Get point coordinates from the GeoPy location object on each row:\n",
    "data[\"coords\"] = data['temp'].apply(lambda loc: tuple(loc.point) if loc else None)\n",
    "\n",
    "# Create shapely point objects to geometry column:\n",
    "data[\"geometry\"] = data[\"coords\"].apply(Point)\n",
    "```\n",
    "All in all, remember that Nominatim is not meant for super heavy use. \n",
    "</div>\n"
   ]
  },
  {
   "cell_type": "markdown",
   "metadata": {},
   "source": [
    "## Table join\n",
    "\n",
    "<div class=\"alert alert-info\">\n",
    "\n",
    "**Table joins in pandas**\n",
    "    \n",
    "For a comprehensive overview of different ways of combining DataFrames and Series based on set theory, have a look at pandas documentation about [merge, join and concatenate](https://pandas.pydata.org/pandas-docs/stable/user_guide/merging.html).\n",
    "\n",
    "\n",
    "</div>\n",
    "\n",
    "\n",
    "Table joins are really common procedures when doing GIS analyses. As you might remember from our earlier lessons, combining data from different tables based on common\n",
    "**key** attribute can be done easily in Pandas/Geopandas using the [.merge()](https://pandas.pydata.org/pandas-docs/stable/generated/pandas.DataFrame.merge.html) -function. We used this approach in the geo-python course [exercise 6](https://geo-python.github.io/2018/lessons/L6/exercise-6.html#joining-data-from-one-dataframe-to-another).\n",
    "\n",
    "However, sometimes it is useful to join two tables together based on the **index** of those DataFrames. In such case, we assume\n",
    "that there is **same number of records** in our DataFrames and that the **order of the records should be the same** in both DataFrames.\n",
    "In fact, now we have such a situation as we are geocoding our addresses where the order of the geocoded addresses in ``geo`` DataFrame is the same\n",
    "as in our original ``data`` DataFrame.\n",
    "\n",
    "Hence, we can join those tables together with ``join()`` -function which merges the two DataFrames together\n",
    "based on index by default."
   ]
  },
  {
   "cell_type": "code",
   "execution_count": 17,
   "metadata": {
    "jupyter": {
     "outputs_hidden": false
    }
   },
   "outputs": [
    {
     "data": {
      "text/html": [
       "<div>\n",
       "<style scoped>\n",
       "    .dataframe tbody tr th:only-of-type {\n",
       "        vertical-align: middle;\n",
       "    }\n",
       "\n",
       "    .dataframe tbody tr th {\n",
       "        vertical-align: top;\n",
       "    }\n",
       "\n",
       "    .dataframe thead th {\n",
       "        text-align: right;\n",
       "    }\n",
       "</style>\n",
       "<table border=\"1\" class=\"dataframe\">\n",
       "  <thead>\n",
       "    <tr style=\"text-align: right;\">\n",
       "      <th></th>\n",
       "      <th>geometry</th>\n",
       "      <th>address</th>\n",
       "      <th>id</th>\n",
       "      <th>addr</th>\n",
       "    </tr>\n",
       "  </thead>\n",
       "  <tbody>\n",
       "    <tr>\n",
       "      <th>0</th>\n",
       "      <td>POINT (24.91556 60.16320)</td>\n",
       "      <td>Ruoholahti, 14, Itämerenkatu, Ruoholahti, Läns...</td>\n",
       "      <td>1000</td>\n",
       "      <td>Itämerenkatu 14, 00101 Helsinki, Finland</td>\n",
       "    </tr>\n",
       "    <tr>\n",
       "      <th>1</th>\n",
       "      <td>POINT (24.93169 60.16902)</td>\n",
       "      <td>Kamppi, 1, Kampinkuja, Kamppi, Eteläinen suurp...</td>\n",
       "      <td>1001</td>\n",
       "      <td>Kampinkuja 1, 00100 Helsinki, Finland</td>\n",
       "    </tr>\n",
       "    <tr>\n",
       "      <th>2</th>\n",
       "      <td>POINT (24.94168 60.16996)</td>\n",
       "      <td>Bangkok9, 8, Kaivokatu, Keskusta, Kluuvi, Etel...</td>\n",
       "      <td>1002</td>\n",
       "      <td>Kaivokatu 8, 00101 Helsinki, Finland</td>\n",
       "    </tr>\n",
       "    <tr>\n",
       "      <th>3</th>\n",
       "      <td>POINT (24.97407 60.19560)</td>\n",
       "      <td>Hermannin rantatie, Kyläsaari, Hermanni, Helsi...</td>\n",
       "      <td>1003</td>\n",
       "      <td>Hermannin rantatie 1, 00580 Helsinki, Finland</td>\n",
       "    </tr>\n",
       "    <tr>\n",
       "      <th>4</th>\n",
       "      <td>POINT (24.92160 60.15665)</td>\n",
       "      <td>Hesburger, 9, Tyynenmerenkatu, Jätkäsaari, Län...</td>\n",
       "      <td>1005</td>\n",
       "      <td>Tyynenmerenkatu 9, 00220 Helsinki, Finland</td>\n",
       "    </tr>\n",
       "  </tbody>\n",
       "</table>\n",
       "</div>"
      ],
      "text/plain": [
       "                    geometry  \\\n",
       "0  POINT (24.91556 60.16320)   \n",
       "1  POINT (24.93169 60.16902)   \n",
       "2  POINT (24.94168 60.16996)   \n",
       "3  POINT (24.97407 60.19560)   \n",
       "4  POINT (24.92160 60.15665)   \n",
       "\n",
       "                                             address    id  \\\n",
       "0  Ruoholahti, 14, Itämerenkatu, Ruoholahti, Läns...  1000   \n",
       "1  Kamppi, 1, Kampinkuja, Kamppi, Eteläinen suurp...  1001   \n",
       "2  Bangkok9, 8, Kaivokatu, Keskusta, Kluuvi, Etel...  1002   \n",
       "3  Hermannin rantatie, Kyläsaari, Hermanni, Helsi...  1003   \n",
       "4  Hesburger, 9, Tyynenmerenkatu, Jätkäsaari, Län...  1005   \n",
       "\n",
       "                                            addr  \n",
       "0       Itämerenkatu 14, 00101 Helsinki, Finland  \n",
       "1          Kampinkuja 1, 00100 Helsinki, Finland  \n",
       "2           Kaivokatu 8, 00101 Helsinki, Finland  \n",
       "3  Hermannin rantatie 1, 00580 Helsinki, Finland  \n",
       "4     Tyynenmerenkatu 9, 00220 Helsinki, Finland  "
      ]
     },
     "execution_count": 17,
     "metadata": {},
     "output_type": "execute_result"
    }
   ],
   "source": [
    "join = geo.join(data)\n",
    "join.head()"
   ]
  },
  {
   "cell_type": "code",
   "execution_count": null,
   "metadata": {},
   "outputs": [],
   "source": [
    "join.crs"
   ]
  },
  {
   "cell_type": "markdown",
   "metadata": {},
   "source": [
    "- Let's also check the data type of our new ``join`` table."
   ]
  },
  {
   "cell_type": "code",
   "execution_count": 22,
   "metadata": {
    "jupyter": {
     "outputs_hidden": false
    }
   },
   "outputs": [
    {
     "data": {
      "text/plain": [
       "geopandas.geodataframe.GeoDataFrame"
      ]
     },
     "execution_count": 22,
     "metadata": {},
     "output_type": "execute_result"
    }
   ],
   "source": [
    "type(join)"
   ]
  },
  {
   "cell_type": "markdown",
   "metadata": {},
   "source": [
    "As a result we have a new GeoDataFrame called ``join`` where we now have\n",
    "all original columns plus a new column for ``geometry``. **Note!** If you would do the join the other way around, i.e. `data.join(geo)`, the output would be a pandas DataFrame, not a GeoDataFrame!\n",
    "\n"
   ]
  },
  {
   "cell_type": "markdown",
   "metadata": {},
   "source": [
    "-  Now it is easy to save our address points into a Shapefile"
   ]
  },
  {
   "cell_type": "code",
   "execution_count": 24,
   "metadata": {},
   "outputs": [],
   "source": [
    "outfp = \"data/addresses.shp\"\n",
    "join.to_file(outfp)"
   ]
  },
  {
   "cell_type": "markdown",
   "metadata": {},
   "source": [
    "That's it. Now we have successfully geocoded those addresses into Points\n",
    "and made a Shapefile out of them. Easy isn't it!"
   ]
  },
  {
   "cell_type": "markdown",
   "metadata": {},
   "source": [
    "### Notes about Nominatim\n",
    "\n",
    "Nominatim works relatively nicely if you have well defined and well-known addresses such as the ones that we used in this tutorial. In practice, the address needs to exist in the OpenStreetMap database. Sometimes, however, you might want to geocode a \"point-of-interest\", such as a museum, only based on it's name. If the museum name is not on OpenStreetMap, Nominatim won't provide any results for it, but you might be able to geocode the place using some other geocoder such as the [Google Geocoding API (V3)](https://developers.google.com/maps/documentation/geocoding/), which requires an API key. [Take a look from past year's materials where we show how to use Google Geocoding API](https://automating-gis-processes.github.io/2016/Lesson3-geocoding.html#geocoding-in-geopandas) in a similar manner as we used Nominatim here."
   ]
  }
 ],
 "metadata": {
  "anaconda-cloud": {},
  "kernelspec": {
   "display_name": "Python 3",
   "language": "python",
   "name": "python3"
  },
  "language_info": {
   "codemirror_mode": {
    "name": "ipython",
    "version": 3
   },
   "file_extension": ".py",
   "mimetype": "text/x-python",
   "name": "python",
   "nbconvert_exporter": "python",
   "pygments_lexer": "ipython3",
   "version": "3.8.1"
  }
 },
 "nbformat": 4,
 "nbformat_minor": 4
}
